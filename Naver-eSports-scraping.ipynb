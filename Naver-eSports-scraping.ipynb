{
 "cells": [
  {
   "cell_type": "code",
   "execution_count": 20,
   "id": "d90b062d",
   "metadata": {},
   "outputs": [
    {
     "name": "stderr",
     "output_type": "stream",
     "text": [
      "/var/folders/67/k4ct0mwx49j46bz5qfxg28_m0000gn/T/ipykernel_24601/3091204192.py:9: DeprecationWarning: executable_path has been deprecated, please pass in a Service object\n",
      "  driver = webdriver.Chrome(ChromeDriverManager().install())\n"
     ]
    }
   ],
   "source": [
    "import requests\n",
    "import json \n",
    "from tqdm import tqdm\n",
    "import pandas as pd\n",
    "from datetime import datetime, timedelta\n",
    "from bs4 import BeautifulSoup \n",
    "from selenium import webdriver\n",
    "from webdriver_manager.chrome import ChromeDriverManager\n",
    "driver = webdriver.Chrome(ChromeDriverManager().install())"
   ]
  },
  {
   "cell_type": "markdown",
   "id": "e7956dc3",
   "metadata": {},
   "source": [
    "# 롤드컵"
   ]
  },
  {
   "cell_type": "code",
   "execution_count": 10,
   "id": "946b7314",
   "metadata": {},
   "outputs": [
    {
     "ename": "IndexError",
     "evalue": "Replacement index 2 out of range for positional args tuple",
     "output_type": "error",
     "traceback": [
      "\u001b[0;31m---------------------------------------------------------------------------\u001b[0m",
      "\u001b[0;31mIndexError\u001b[0m                                Traceback (most recent call last)",
      "\u001b[0;32m/var/folders/67/k4ct0mwx49j46bz5qfxg28_m0000gn/T/ipykernel_24601/2413319155.py\u001b[0m in \u001b[0;36m<module>\u001b[0;34m\u001b[0m\n\u001b[1;32m      7\u001b[0m             \u001b[0murl_lists\u001b[0m\u001b[0;34m.\u001b[0m\u001b[0mappend\u001b[0m\u001b[0;34m(\u001b[0m\u001b[0murl\u001b[0m\u001b[0;34m.\u001b[0m\u001b[0mformat\u001b[0m\u001b[0;34m(\u001b[0m\u001b[0mi\u001b[0m\u001b[0;34m,\u001b[0m \u001b[0;36m0\u001b[0m\u001b[0;34m,\u001b[0m \u001b[0mj\u001b[0m\u001b[0;34m)\u001b[0m\u001b[0;34m)\u001b[0m\u001b[0;34m\u001b[0m\u001b[0;34m\u001b[0m\u001b[0m\n\u001b[1;32m      8\u001b[0m         \u001b[0;32melse\u001b[0m\u001b[0;34m:\u001b[0m\u001b[0;34m\u001b[0m\u001b[0;34m\u001b[0m\u001b[0m\n\u001b[0;32m----> 9\u001b[0;31m             \u001b[0murl_lists\u001b[0m\u001b[0;34m.\u001b[0m\u001b[0mappend\u001b[0m\u001b[0;34m(\u001b[0m\u001b[0murl\u001b[0m\u001b[0;34m.\u001b[0m\u001b[0mformat\u001b[0m\u001b[0;34m(\u001b[0m\u001b[0mi\u001b[0m\u001b[0;34m,\u001b[0m \u001b[0mj\u001b[0m\u001b[0;34m,\u001b[0m\u001b[0;34m)\u001b[0m\u001b[0;34m)\u001b[0m\u001b[0;34m\u001b[0m\u001b[0;34m\u001b[0m\u001b[0m\n\u001b[0m",
      "\u001b[0;31mIndexError\u001b[0m: Replacement index 2 out of range for positional args tuple"
     ]
    }
   ],
   "source": [
    "# url 리스트 만들기\n",
    "url_lists = []\n",
    "url = 'https://game.naver.com/esports/League_of_Legends/schedule/world_championship?date={}-{}{}'\n",
    "for i in range(2016, 2023):\n",
    "    for j in range(1, 13):\n",
    "        if j < 10:\n",
    "            url_lists.append(url.format(i, 0, j))\n",
    "        else:\n",
    "            url_lists.append(url.format(i, j,))"
   ]
  },
  {
   "cell_type": "code",
   "execution_count": 12,
   "id": "1fa2e55b",
   "metadata": {},
   "outputs": [],
   "source": [
    "date = ['2016-08',\n",
    "'2016-09',\n",
    "'2016-10',\n",
    "'2017-10',\n",
    "'2017-11',\n",
    "'2018-10',\n",
    "'2018-11',\n",
    "'2019-10',\n",
    "'2019-11',\n",
    "'2020-09',\n",
    "'2020-10',\n",
    "'2021-10',\n",
    "'2021-11',\n",
    "'2022-09',\n",
    "'2022-10',\n",
    "'2022-11']"
   ]
  },
  {
   "cell_type": "code",
   "execution_count": 13,
   "id": "741cf8e8",
   "metadata": {},
   "outputs": [],
   "source": [
    "# url 리스트 만들기\n",
    "url_lists = []\n",
    "url = 'https://game.naver.com/esports/League_of_Legends/schedule/world_championship?date={}'\n",
    "for i in date:\n",
    "    url_lists.append(url.format(i))"
   ]
  },
  {
   "cell_type": "code",
   "execution_count": 14,
   "id": "22d0b7f4",
   "metadata": {},
   "outputs": [
    {
     "data": {
      "text/plain": [
       "['https://game.naver.com/esports/League_of_Legends/schedule/world_championship?date=2016-08',\n",
       " 'https://game.naver.com/esports/League_of_Legends/schedule/world_championship?date=2016-09',\n",
       " 'https://game.naver.com/esports/League_of_Legends/schedule/world_championship?date=2016-10',\n",
       " 'https://game.naver.com/esports/League_of_Legends/schedule/world_championship?date=2017-10',\n",
       " 'https://game.naver.com/esports/League_of_Legends/schedule/world_championship?date=2017-11',\n",
       " 'https://game.naver.com/esports/League_of_Legends/schedule/world_championship?date=2018-10',\n",
       " 'https://game.naver.com/esports/League_of_Legends/schedule/world_championship?date=2018-11',\n",
       " 'https://game.naver.com/esports/League_of_Legends/schedule/world_championship?date=2019-10',\n",
       " 'https://game.naver.com/esports/League_of_Legends/schedule/world_championship?date=2019-11',\n",
       " 'https://game.naver.com/esports/League_of_Legends/schedule/world_championship?date=2020-09',\n",
       " 'https://game.naver.com/esports/League_of_Legends/schedule/world_championship?date=2020-10',\n",
       " 'https://game.naver.com/esports/League_of_Legends/schedule/world_championship?date=2021-10',\n",
       " 'https://game.naver.com/esports/League_of_Legends/schedule/world_championship?date=2021-11',\n",
       " 'https://game.naver.com/esports/League_of_Legends/schedule/world_championship?date=2022-09',\n",
       " 'https://game.naver.com/esports/League_of_Legends/schedule/world_championship?date=2022-10',\n",
       " 'https://game.naver.com/esports/League_of_Legends/schedule/world_championship?date=2022-11']"
      ]
     },
     "execution_count": 14,
     "metadata": {},
     "output_type": "execute_result"
    }
   ],
   "source": [
    "url_lists"
   ]
  },
  {
   "cell_type": "code",
   "execution_count": 15,
   "id": "a56a9b66",
   "metadata": {},
   "outputs": [
    {
     "name": "stdout",
     "output_type": "stream",
     "text": [
      "https://game.naver.com/esports/League_of_Legends/schedule/world_championship?date=2016-08 Done\n",
      "https://game.naver.com/esports/League_of_Legends/schedule/world_championship?date=2016-09 Done\n",
      "https://game.naver.com/esports/League_of_Legends/schedule/world_championship?date=2016-10 Done\n",
      "https://game.naver.com/esports/League_of_Legends/schedule/world_championship?date=2017-10 Done\n",
      "https://game.naver.com/esports/League_of_Legends/schedule/world_championship?date=2017-11 Done\n",
      "https://game.naver.com/esports/League_of_Legends/schedule/world_championship?date=2018-10 Done\n",
      "https://game.naver.com/esports/League_of_Legends/schedule/world_championship?date=2018-11 Done\n",
      "https://game.naver.com/esports/League_of_Legends/schedule/world_championship?date=2019-10 Done\n",
      "https://game.naver.com/esports/League_of_Legends/schedule/world_championship?date=2019-11 Done\n",
      "https://game.naver.com/esports/League_of_Legends/schedule/world_championship?date=2020-09 Done\n",
      "https://game.naver.com/esports/League_of_Legends/schedule/world_championship?date=2020-10 Done\n",
      "https://game.naver.com/esports/League_of_Legends/schedule/world_championship?date=2021-10 Done\n",
      "https://game.naver.com/esports/League_of_Legends/schedule/world_championship?date=2021-11 Done\n",
      "https://game.naver.com/esports/League_of_Legends/schedule/world_championship?date=2022-09 Done\n",
      "https://game.naver.com/esports/League_of_Legends/schedule/world_championship?date=2022-10 Done\n",
      "https://game.naver.com/esports/League_of_Legends/schedule/world_championship?date=2022-11 Done\n"
     ]
    }
   ],
   "source": [
    "df = pd.DataFrame()\n",
    "for url in url_lists:\n",
    "    driver.get(url)\n",
    "    try:  \n",
    "        html = driver.page_source\n",
    "        soup = BeautifulSoup(html, 'html.parser')\n",
    "        home = soup.select('#__NEXT_DATA__')\n",
    "\n",
    "        for i in home:\n",
    "            result = []\n",
    "            result.append(i.get_text())\n",
    "            dd = json.loads(result[0])\n",
    "            d = pd.json_normalize(dd['props']['initialState']['schedule']['monthSchedule'])\n",
    "\n",
    "            for j in range(0, (d['schedules'].count()-1)):\n",
    "                d2 = pd.json_normalize(d['schedules'][j])\n",
    "                df = pd.concat([df,d2]) \n",
    "                \n",
    "        print(url,'Done')\n",
    "\n",
    "    except:\n",
    "            print(url,'Error Code')"
   ]
  },
  {
   "cell_type": "code",
   "execution_count": 16,
   "id": "208b206a",
   "metadata": {},
   "outputs": [],
   "source": [
    "df.to_csv(\"League_of_Legends:schedule:world_championship.csv\", index = False)"
   ]
  },
  {
   "cell_type": "markdown",
   "id": "665c8c55",
   "metadata": {},
   "source": [
    "# LCK"
   ]
  },
  {
   "cell_type": "code",
   "execution_count": 21,
   "id": "6a44d6e5",
   "metadata": {},
   "outputs": [],
   "source": [
    "date = [\n",
    "'2016-01',\n",
    "'2016-02',\n",
    "'2016-03',\n",
    "'2016-04',\n",
    "'2016-05',\n",
    "'2016-06',\n",
    "'2016-07',\n",
    "'2016-08',\n",
    "    \n",
    "'2017-01',\n",
    "'2017-02',\n",
    "'2017-03',\n",
    "'2017-04',\n",
    "'2017-05',\n",
    "'2017-06',\n",
    "'2017-07',\n",
    "'2017-08',\n",
    "'2017-09',\n",
    "\n",
    "'2018-01',\n",
    "'2018-02',\n",
    "'2018-03',\n",
    "'2018-04',\n",
    "'2018-06',\n",
    "'2018-07',\n",
    "'2018-08',\n",
    "'2018-09',\n",
    "        \n",
    "'2019-01',\n",
    "'2019-02',\n",
    "'2019-03',\n",
    "'2019-04',\n",
    "'2019-06',\n",
    "'2019-07',\n",
    "'2019-08',\n",
    "'2019-09',\n",
    "        \n",
    "'2020-02',\n",
    "'2020-03',\n",
    "'2020-04',\n",
    "'2020-06',\n",
    "'2020-07',\n",
    "'2020-08',\n",
    "'2020-09',\n",
    "        \n",
    "'2021-01',\n",
    "'2021-02',\n",
    "'2021-03',\n",
    "'2021-04',\n",
    "'2021-06',\n",
    "'2021-07',\n",
    "'2021-08',\n",
    "'2021-09',\n",
    "        \n",
    "'2022-01',\n",
    "'2022-02',\n",
    "'2022-03',\n",
    "'2022-04',\n",
    "'2022-05',\n",
    "'2022-06',\n",
    "'2022-07',\n",
    "'2022-08',\n",
    "'2022-09',]"
   ]
  },
  {
   "cell_type": "code",
   "execution_count": 22,
   "id": "05ea02b3",
   "metadata": {},
   "outputs": [],
   "source": [
    "# url 리스트 만들기\n",
    "url_lists = []\n",
    "url = 'https://game.naver.com/esports/League_of_Legends/schedule/lck?date={}'\n",
    "for i in date:\n",
    "        url_lists.append(url.format(i))"
   ]
  },
  {
   "cell_type": "code",
   "execution_count": 25,
   "id": "86831d19",
   "metadata": {},
   "outputs": [
    {
     "name": "stdout",
     "output_type": "stream",
     "text": [
      "https://game.naver.com/esports/League_of_Legends/schedule/lck?date=2016-01 Done\n",
      "https://game.naver.com/esports/League_of_Legends/schedule/lck?date=2016-02 Done\n",
      "https://game.naver.com/esports/League_of_Legends/schedule/lck?date=2016-03 Done\n",
      "https://game.naver.com/esports/League_of_Legends/schedule/lck?date=2016-04 Done\n",
      "https://game.naver.com/esports/League_of_Legends/schedule/lck?date=2016-05 Done\n",
      "https://game.naver.com/esports/League_of_Legends/schedule/lck?date=2016-06 Done\n",
      "https://game.naver.com/esports/League_of_Legends/schedule/lck?date=2016-07 Done\n",
      "https://game.naver.com/esports/League_of_Legends/schedule/lck?date=2016-08 Done\n",
      "https://game.naver.com/esports/League_of_Legends/schedule/lck?date=2017-01 Done\n",
      "https://game.naver.com/esports/League_of_Legends/schedule/lck?date=2017-02 Done\n",
      "https://game.naver.com/esports/League_of_Legends/schedule/lck?date=2017-03 Done\n",
      "https://game.naver.com/esports/League_of_Legends/schedule/lck?date=2017-04 Done\n",
      "https://game.naver.com/esports/League_of_Legends/schedule/lck?date=2017-05 Done\n",
      "https://game.naver.com/esports/League_of_Legends/schedule/lck?date=2017-06 Done\n",
      "https://game.naver.com/esports/League_of_Legends/schedule/lck?date=2017-07 Done\n",
      "https://game.naver.com/esports/League_of_Legends/schedule/lck?date=2017-08 Done\n",
      "https://game.naver.com/esports/League_of_Legends/schedule/lck?date=2017-09 Done\n",
      "https://game.naver.com/esports/League_of_Legends/schedule/lck?date=2018-01 Done\n",
      "https://game.naver.com/esports/League_of_Legends/schedule/lck?date=2018-02 Done\n",
      "https://game.naver.com/esports/League_of_Legends/schedule/lck?date=2018-03 Done\n",
      "https://game.naver.com/esports/League_of_Legends/schedule/lck?date=2018-04 Done\n",
      "https://game.naver.com/esports/League_of_Legends/schedule/lck?date=2018-06 Done\n",
      "https://game.naver.com/esports/League_of_Legends/schedule/lck?date=2018-07 Done\n",
      "https://game.naver.com/esports/League_of_Legends/schedule/lck?date=2018-08 Done\n",
      "https://game.naver.com/esports/League_of_Legends/schedule/lck?date=2018-09 Done\n",
      "https://game.naver.com/esports/League_of_Legends/schedule/lck?date=2019-01 Done\n",
      "https://game.naver.com/esports/League_of_Legends/schedule/lck?date=2019-02 Done\n",
      "https://game.naver.com/esports/League_of_Legends/schedule/lck?date=2019-03 Done\n",
      "https://game.naver.com/esports/League_of_Legends/schedule/lck?date=2019-04 Done\n",
      "https://game.naver.com/esports/League_of_Legends/schedule/lck?date=2019-06 Done\n",
      "https://game.naver.com/esports/League_of_Legends/schedule/lck?date=2019-07 Done\n",
      "https://game.naver.com/esports/League_of_Legends/schedule/lck?date=2019-08 Done\n",
      "https://game.naver.com/esports/League_of_Legends/schedule/lck?date=2019-09 Done\n",
      "https://game.naver.com/esports/League_of_Legends/schedule/lck?date=2020-02 Done\n",
      "https://game.naver.com/esports/League_of_Legends/schedule/lck?date=2020-03 Done\n",
      "https://game.naver.com/esports/League_of_Legends/schedule/lck?date=2020-04 Done\n",
      "https://game.naver.com/esports/League_of_Legends/schedule/lck?date=2020-06 Done\n",
      "https://game.naver.com/esports/League_of_Legends/schedule/lck?date=2020-07 Done\n",
      "https://game.naver.com/esports/League_of_Legends/schedule/lck?date=2020-08 Done\n",
      "https://game.naver.com/esports/League_of_Legends/schedule/lck?date=2020-09 Done\n",
      "https://game.naver.com/esports/League_of_Legends/schedule/lck?date=2021-01 Done\n",
      "https://game.naver.com/esports/League_of_Legends/schedule/lck?date=2021-02 Done\n",
      "https://game.naver.com/esports/League_of_Legends/schedule/lck?date=2021-03 Done\n",
      "https://game.naver.com/esports/League_of_Legends/schedule/lck?date=2021-04 Done\n",
      "https://game.naver.com/esports/League_of_Legends/schedule/lck?date=2021-06 Done\n",
      "https://game.naver.com/esports/League_of_Legends/schedule/lck?date=2021-07 Done\n",
      "https://game.naver.com/esports/League_of_Legends/schedule/lck?date=2021-08 Done\n",
      "https://game.naver.com/esports/League_of_Legends/schedule/lck?date=2021-09 Done\n",
      "https://game.naver.com/esports/League_of_Legends/schedule/lck?date=2022-01 Done\n",
      "https://game.naver.com/esports/League_of_Legends/schedule/lck?date=2022-02 Done\n",
      "https://game.naver.com/esports/League_of_Legends/schedule/lck?date=2022-03 Done\n",
      "https://game.naver.com/esports/League_of_Legends/schedule/lck?date=2022-04 Done\n",
      "https://game.naver.com/esports/League_of_Legends/schedule/lck?date=2022-05 Done\n",
      "https://game.naver.com/esports/League_of_Legends/schedule/lck?date=2022-06 Done\n",
      "https://game.naver.com/esports/League_of_Legends/schedule/lck?date=2022-07 Done\n",
      "https://game.naver.com/esports/League_of_Legends/schedule/lck?date=2022-08 Done\n",
      "https://game.naver.com/esports/League_of_Legends/schedule/lck?date=2022-09 Done\n"
     ]
    }
   ],
   "source": [
    "df = pd.DataFrame()\n",
    "for url in url_lists:\n",
    "    driver.get(url)\n",
    "    try:  \n",
    "        html = driver.page_source\n",
    "        soup = BeautifulSoup(html, 'html.parser')\n",
    "        home = soup.select('#__NEXT_DATA__')\n",
    "\n",
    "        for i in home:\n",
    "            result = []\n",
    "            result.append(i.get_text())\n",
    "            dd = json.loads(result[0])\n",
    "            d = pd.json_normalize(dd['props']['initialState']['schedule']['monthSchedule'])\n",
    "\n",
    "            for j in range(0, (d['schedules'].count()-1)):\n",
    "                d2 = pd.json_normalize(d['schedules'][j])\n",
    "                df = pd.concat([df,d2]) \n",
    "                \n",
    "        print(url,'Done')\n",
    "\n",
    "    except:\n",
    "            print(url,'Error Code')"
   ]
  },
  {
   "cell_type": "code",
   "execution_count": 26,
   "id": "7f45782c",
   "metadata": {},
   "outputs": [],
   "source": [
    "df.to_csv(\"League_of_Legends:schedule:lck.csv\", index = False)"
   ]
  },
  {
   "cell_type": "markdown",
   "id": "0a4a1871",
   "metadata": {},
   "source": [
    "# MSI"
   ]
  },
  {
   "cell_type": "code",
   "execution_count": 30,
   "id": "b41d55fb",
   "metadata": {},
   "outputs": [],
   "source": [
    "date = [\n",
    "'2021-01',\n",
    "'2021-02',\n",
    "'2021-03',\n",
    "'2021-04',\n",
    "'2021-06',\n",
    "'2021-07',\n",
    "'2021-08',\n",
    "        \n",
    "'2022-01',\n",
    "'2022-02',\n",
    "'2022-03',\n",
    "'2022-04',\n",
    "'2022-06',\n",
    "'2022-07',\n",
    "'2022-08',\n",
    "]"
   ]
  },
  {
   "cell_type": "code",
   "execution_count": 31,
   "id": "91adb3b4",
   "metadata": {},
   "outputs": [],
   "source": [
    "# url 리스트 만들기\n",
    "url_lists = []\n",
    "url = 'https://game.naver.com/esports/League_of_Legends/schedule/msi?date={}'\n",
    "for i in date:\n",
    "        url_lists.append(url.format(i))"
   ]
  },
  {
   "cell_type": "code",
   "execution_count": 32,
   "id": "a709215e",
   "metadata": {},
   "outputs": [
    {
     "name": "stdout",
     "output_type": "stream",
     "text": [
      "https://game.naver.com/esports/League_of_Legends/schedule/msi?date=2016-05 Done\n",
      "https://game.naver.com/esports/League_of_Legends/schedule/msi?date=2017-05 Error Code\n",
      "https://game.naver.com/esports/League_of_Legends/schedule/msi?date=2018-05 Done\n",
      "https://game.naver.com/esports/League_of_Legends/schedule/msi?date=2019-05 Done\n",
      "https://game.naver.com/esports/League_of_Legends/schedule/msi?date=2020-05 Error Code\n",
      "https://game.naver.com/esports/League_of_Legends/schedule/msi?date=2021-05 Done\n",
      "https://game.naver.com/esports/League_of_Legends/schedule/msi?date=2022-05 Done\n"
     ]
    }
   ],
   "source": [
    "df = pd.DataFrame()\n",
    "for url in url_lists:\n",
    "    driver.get(url)\n",
    "    try:  \n",
    "        html = driver.page_source\n",
    "        soup = BeautifulSoup(html, 'html.parser')\n",
    "        home = soup.select('#__NEXT_DATA__')\n",
    "\n",
    "        for i in home:\n",
    "            result = []\n",
    "            result.append(i.get_text())\n",
    "            dd = json.loads(result[0])\n",
    "            d = pd.json_normalize(dd['props']['initialState']['schedule']['monthSchedule'])\n",
    "\n",
    "            for j in range(0, (d['schedules'].count()-1)):\n",
    "                d2 = pd.json_normalize(d['schedules'][j])\n",
    "                df = pd.concat([df,d2]) \n",
    "                \n",
    "        print(url,'Done')\n",
    "\n",
    "    except:\n",
    "            print(url,'Error Code')"
   ]
  },
  {
   "cell_type": "code",
   "execution_count": 33,
   "id": "6cb2627a",
   "metadata": {},
   "outputs": [],
   "source": [
    "df.to_csv(\"League_of_Legends:schedule:msi.csv\", index = False)"
   ]
  },
  {
   "cell_type": "code",
   "execution_count": null,
   "id": "a98a6fac",
   "metadata": {},
   "outputs": [],
   "source": []
  },
  {
   "cell_type": "markdown",
   "id": "7b8c2b95",
   "metadata": {},
   "source": [
    "# LCK CL"
   ]
  },
  {
   "cell_type": "code",
   "execution_count": 34,
   "id": "252963f0",
   "metadata": {},
   "outputs": [],
   "source": [
    "date = [\n",
    "'2021-01',\n",
    "'2021-02',\n",
    "'2021-03',\n",
    "'2021-04',\n",
    "'2021-06',\n",
    "'2021-07',\n",
    "'2021-08',\n",
    "        \n",
    "'2022-01',\n",
    "'2022-02',\n",
    "'2022-03',\n",
    "'2022-04',\n",
    "'2022-06',\n",
    "'2022-07',\n",
    "'2022-08',\n",
    "]\n",
    "# url 리스트 만들기\n",
    "url_lists = []\n",
    "url = 'https://game.naver.com/esports/League_of_Legends/schedule/lck_cl?date={}'\n",
    "for i in date:\n",
    "        url_lists.append(url.format(i))"
   ]
  },
  {
   "cell_type": "code",
   "execution_count": 35,
   "id": "957d4b2a",
   "metadata": {},
   "outputs": [
    {
     "name": "stdout",
     "output_type": "stream",
     "text": [
      "https://game.naver.com/esports/League_of_Legends/schedule/lck_cl?date=2021-01 Done\n",
      "https://game.naver.com/esports/League_of_Legends/schedule/lck_cl?date=2021-02 Done\n",
      "https://game.naver.com/esports/League_of_Legends/schedule/lck_cl?date=2021-03 Done\n",
      "https://game.naver.com/esports/League_of_Legends/schedule/lck_cl?date=2021-04 Done\n",
      "https://game.naver.com/esports/League_of_Legends/schedule/lck_cl?date=2021-06 Done\n",
      "https://game.naver.com/esports/League_of_Legends/schedule/lck_cl?date=2021-07 Done\n",
      "https://game.naver.com/esports/League_of_Legends/schedule/lck_cl?date=2021-08 Done\n",
      "https://game.naver.com/esports/League_of_Legends/schedule/lck_cl?date=2022-01 Done\n",
      "https://game.naver.com/esports/League_of_Legends/schedule/lck_cl?date=2022-02 Done\n",
      "https://game.naver.com/esports/League_of_Legends/schedule/lck_cl?date=2022-03 Done\n",
      "https://game.naver.com/esports/League_of_Legends/schedule/lck_cl?date=2022-04 Done\n",
      "https://game.naver.com/esports/League_of_Legends/schedule/lck_cl?date=2022-06 Done\n",
      "https://game.naver.com/esports/League_of_Legends/schedule/lck_cl?date=2022-07 Done\n",
      "https://game.naver.com/esports/League_of_Legends/schedule/lck_cl?date=2022-08 Done\n"
     ]
    }
   ],
   "source": [
    "df = pd.DataFrame()\n",
    "for url in url_lists:\n",
    "    driver.get(url)\n",
    "    try:  \n",
    "        html = driver.page_source\n",
    "        soup = BeautifulSoup(html, 'html.parser')\n",
    "        home = soup.select('#__NEXT_DATA__')\n",
    "\n",
    "        for i in home:\n",
    "            result = []\n",
    "            result.append(i.get_text())\n",
    "            dd = json.loads(result[0])\n",
    "            d = pd.json_normalize(dd['props']['initialState']['schedule']['monthSchedule'])\n",
    "\n",
    "            for j in range(0, (d['schedules'].count()-1)):\n",
    "                d2 = pd.json_normalize(d['schedules'][j])\n",
    "                df = pd.concat([df,d2]) \n",
    "                \n",
    "        print(url,'Done')\n",
    "\n",
    "    except:\n",
    "            print(url,'Error Code')"
   ]
  },
  {
   "cell_type": "code",
   "execution_count": 36,
   "id": "bba52823",
   "metadata": {},
   "outputs": [],
   "source": [
    "df.to_csv(\"League_of_Legends:schedule:lck_cl.csv\", index = False)"
   ]
  },
  {
   "cell_type": "code",
   "execution_count": null,
   "id": "3d07596e",
   "metadata": {},
   "outputs": [],
   "source": []
  }
 ],
 "metadata": {
  "kernelspec": {
   "display_name": "Python 3 (ipykernel)",
   "language": "python",
   "name": "python3"
  },
  "language_info": {
   "codemirror_mode": {
    "name": "ipython",
    "version": 3
   },
   "file_extension": ".py",
   "mimetype": "text/x-python",
   "name": "python",
   "nbconvert_exporter": "python",
   "pygments_lexer": "ipython3",
   "version": "3.9.7"
  }
 },
 "nbformat": 4,
 "nbformat_minor": 5
}
