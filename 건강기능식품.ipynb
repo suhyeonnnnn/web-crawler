{
 "cells": [
  {
   "cell_type": "code",
   "execution_count": 1,
   "id": "75708f18",
   "metadata": {},
   "outputs": [],
   "source": [
    "import requests\n",
    "import json \n",
    "from tqdm import tqdm\n",
    "import pandas as pd\n",
    "from datetime import datetime, timedelta\n",
    "from bs4 import BeautifulSoup "
   ]
  },
  {
   "cell_type": "code",
   "execution_count": 2,
   "id": "013182b2",
   "metadata": {
    "scrolled": true
   },
   "outputs": [],
   "source": [
    "import requests\n",
    "import websocket\n",
    "import time\n",
    "import json"
   ]
  },
  {
   "cell_type": "code",
   "execution_count": 3,
   "id": "2fa14fc8",
   "metadata": {},
   "outputs": [],
   "source": [
    "import time\n",
    "from selenium import webdriver\n",
    "\n",
    "import time\n",
    "import pandas as pd\n",
    "\n",
    "from selenium import webdriver\n",
    "from bs4 import BeautifulSoup as bs\n",
    "\n",
    "import requests"
   ]
  },
  {
   "cell_type": "markdown",
   "id": "e243aa86",
   "metadata": {},
   "source": [
    "# html list 만들기"
   ]
  },
  {
   "cell_type": "code",
   "execution_count": 4,
   "id": "54cf8c53",
   "metadata": {},
   "outputs": [],
   "source": [
    "url = 'http://www.foodsafetykorea.go.kr/portal/healthyfoodlife/searchHomeHFDetail.do'\n",
    "url_list = []\n",
    "for i in range(2022021000213825,2022021000213835):\n",
    "    for j in range(1,7):\n",
    "        payload = {\n",
    "            'prdlstReportLedgNo': i,\n",
    "            'search_code': '01',\n",
    "            'start_idx': j,\n",
    "            'menu_no': '2823',\n",
    "            'menu_grp': 'MENU_NEW01'\n",
    "        }\n",
    "        \n",
    "        sess = requests.Session()\n",
    "        respond1 = sess.post(url,data=payload)\n",
    "        url_list.append(respond1)\n",
    "    "
   ]
  },
  {
   "cell_type": "code",
   "execution_count": 5,
   "id": "5aa44dbe",
   "metadata": {},
   "outputs": [
    {
     "data": {
      "text/plain": [
       "60"
      ]
     },
     "execution_count": 5,
     "metadata": {},
     "output_type": "execute_result"
    }
   ],
   "source": [
    "len(url_list)"
   ]
  },
  {
   "cell_type": "markdown",
   "id": "ad4a2555",
   "metadata": {},
   "source": [
    "# 데이터 파싱"
   ]
  },
  {
   "cell_type": "code",
   "execution_count": 10,
   "id": "10538f83",
   "metadata": {},
   "outputs": [],
   "source": [
    "datalist = []\n",
    "for url in url_list:\n",
    "    html = url.text\n",
    "    soup = bs(html, \"html.parser\")\n",
    "    \n",
    "    업소명 = soup.select('div.page-container > article > table > tbody > tr:nth-child(1)> td')\n",
    "    제품명 = soup.select('div.page-container > article > table > tbody > tr:nth-child(2)> td')\n",
    "    신고번호 = soup.select('div.page-container > article > table > tbody > tr:nth-child(3)> td')\n",
    "    등록일자 = soup.select('div.page-container > article > table > tbody > tr:nth-child(4)> td')\n",
    "    유통기한 = soup.select('div.page-container > article > table > tbody > tr:nth-child(5)> td')\n",
    "    성상 = soup.select('div.page-container > article > table > tbody > tr:nth-child(6)> td')\n",
    "    섭취량 = soup.select('div.page-container > article > table > tbody > tr:nth-child(7)> td')\n",
    "    포장재질 = soup.select('div.page-container > article > table > tbody > tr:nth-child(8)> td')\n",
    "    보존 = soup.select('div.page-container > article > table > tbody > tr:nth-child(9)> td')\n",
    "    섭취시주의사항 = soup.select('div.page-container > article > table > tbody > tr:nth-child(10)> td')\n",
    "    기능성내용 = soup.select('div.page-container > article > table > tbody > tr:nth-child(11)> td')\n",
    "    기준 = soup.select('div.page-container > article > table > tbody > tr:nth-child(12)> td')\n",
    "\n",
    "    for item in zip(업소명, 제품명, 신고번호, 등록일자, 유통기한, 성상, 섭취량, 포장재질, 보존, 섭취시주의사항, 기능성내용, 기준):\n",
    "        datalist.append(\n",
    "            {'업소명' : item[0].text.replace('\\n', '').replace('\\t', '').replace('  ', ''),\n",
    "             '제품명' : item[1].text.replace('\\n', '').replace('\\t', '').replace('  ', ''),\n",
    "             '신고번호' : item[2].text.replace('\\n', '').replace('\\t', '').replace('  ', ''),\n",
    "             '등록일자' : item[3].text.replace('\\n', '').replace('\\t', '').replace('  ', ''),\n",
    "             '유통기한' : item[4].text.replace('\\n', '').replace('\\t', '').replace('  ', ''), \n",
    "             '성상' : item[5].text.replace('\\n', '').replace('\\t', '').replace('  ', ''),\n",
    "             '섭취량' : item[6].text.replace('\\n', '').replace('\\t', '').replace('  ', ''),\n",
    "             '포장재질' : item[7].text.replace('\\n', '').replace('\\t', '').replace('  ', ''),\n",
    "             '보존' : item[8].text.replace('\\n', '').replace('\\t', '').replace('  ', ''),\n",
    "             '섭취시주의사항' : item[9].text.replace('\\n', '').replace('\\t', '').replace('  ', ''),\n",
    "             '기능성내용' : item[10].text.replace('\\n', '').replace('\\t', '').replace('  ', ''),\n",
    "             '기준' : item[11].text.replace('\\n', '').replace('\\t', '').replace('  ', ''),\n",
    "            })\n",
    "    \n",
    "    \n",
    "data= pd.DataFrame(datalist)"
   ]
  },
  {
   "cell_type": "code",
   "execution_count": 11,
   "id": "b51e0bc6",
   "metadata": {},
   "outputs": [
    {
     "data": {
      "text/html": [
       "<div>\n",
       "<style scoped>\n",
       "    .dataframe tbody tr th:only-of-type {\n",
       "        vertical-align: middle;\n",
       "    }\n",
       "\n",
       "    .dataframe tbody tr th {\n",
       "        vertical-align: top;\n",
       "    }\n",
       "\n",
       "    .dataframe thead th {\n",
       "        text-align: right;\n",
       "    }\n",
       "</style>\n",
       "<table border=\"1\" class=\"dataframe\">\n",
       "  <thead>\n",
       "    <tr style=\"text-align: right;\">\n",
       "      <th></th>\n",
       "      <th>업소명</th>\n",
       "      <th>제품명</th>\n",
       "      <th>신고번호</th>\n",
       "      <th>등록일자</th>\n",
       "      <th>유통기한</th>\n",
       "      <th>성상</th>\n",
       "      <th>섭취량</th>\n",
       "      <th>포장재질</th>\n",
       "      <th>보존</th>\n",
       "      <th>섭취시주의사항</th>\n",
       "      <th>기능성내용</th>\n",
       "      <th>기준</th>\n",
       "    </tr>\n",
       "  </thead>\n",
       "  <tbody>\n",
       "    <tr>\n",
       "      <th>0</th>\n",
       "      <td>주)팜크로스</td>\n",
       "      <td>혈당엔 바나바</td>\n",
       "      <td>200400151101082</td>\n",
       "      <td>2022-05-30</td>\n",
       "      <td>제조일로부터 24개월</td>\n",
       "      <td>고유의 향미가 있고 이미·이취가 없는 흰색, 검은색 점박이를 포함한 회황색의 장방형...</td>\n",
       "      <td>1일 1회, 1회 1정을 물과 함께 섭취하십시오.</td>\n",
       "      <td>폴리에틸렌테레프탈레이트(PET), 알루미늄박폴리에틸렌(PE), 고밀도폴리에틸렌(HD...</td>\n",
       "      <td>직사광선 및 고온다습한 곳을 피하여 건조하고 서늘한 곳에 보관하십시오.</td>\n",
       "      <td>(1) 당뇨병이 있는 경우 섭취 전 전문가와 상담할 것(2) 이상사례 발생 시 섭취...</td>\n",
       "      <td>①식후 혈당상승 억제에 도움을 줄 수 있음항산화 작용을 하여 유해산소로부터 세포를 ...</td>\n",
       "      <td>1. 성상 : 고유의 향미가 있고 이미·이취가 없는 흰색, 검은색 점박이를 포함한 ...</td>\n",
       "    </tr>\n",
       "    <tr>\n",
       "      <th>6</th>\n",
       "      <td>(주)팜투팜2공장</td>\n",
       "      <td>가르시니아 라이트미(美)다이어트</td>\n",
       "      <td>2018000391549</td>\n",
       "      <td>2022-05-30</td>\n",
       "      <td>제조일로부터 18개월</td>\n",
       "      <td>고유의 향미가 있고 이미, 이취가 없는 밝은 회황색의 분말을 함유한 흰색의 경질캡슐</td>\n",
       "      <td>1일 2회, 1회 2캡슐을 물과 함께 섭취 하십시오.</td>\n",
       "      <td>폴리에틸렌테레프탈레이트(PET), 폴리에틸렌(HDPE), 폴리프로필렌(PP), 염화...</td>\n",
       "      <td>1) 직사광선 및 고온다습한 곳을 피하여 건조하고 서늘한 실온에 보관하십시오.2) ...</td>\n",
       "      <td>① 질환이 있거나 의약품 복용 시 전문가와 상담 하십시오. ② 알레르기 체질 등은 ...</td>\n",
       "      <td>[프로바이오틱스] 유산균 증식 및 유해균 억제･배변활동 원활･장 건강에 도움을 줄 ...</td>\n",
       "      <td>1. 성상: 고유의 향미가 있고 이미, 이취가 없는 밝은 회황색의 분말을 함유한 흰...</td>\n",
       "    </tr>\n",
       "  </tbody>\n",
       "</table>\n",
       "</div>"
      ],
      "text/plain": [
       "         업소명                제품명             신고번호        등록일자         유통기한  \\\n",
       "0     주)팜크로스            혈당엔 바나바  200400151101082  2022-05-30  제조일로부터 24개월   \n",
       "6  (주)팜투팜2공장  가르시니아 라이트미(美)다이어트    2018000391549  2022-05-30  제조일로부터 18개월   \n",
       "\n",
       "                                                  성상  \\\n",
       "0  고유의 향미가 있고 이미·이취가 없는 흰색, 검은색 점박이를 포함한 회황색의 장방형...   \n",
       "6     고유의 향미가 있고 이미, 이취가 없는 밝은 회황색의 분말을 함유한 흰색의 경질캡슐   \n",
       "\n",
       "                              섭취량  \\\n",
       "0     1일 1회, 1회 1정을 물과 함께 섭취하십시오.   \n",
       "6  1일 2회, 1회 2캡슐을 물과 함께 섭취 하십시오.    \n",
       "\n",
       "                                                포장재질  \\\n",
       "0  폴리에틸렌테레프탈레이트(PET), 알루미늄박폴리에틸렌(PE), 고밀도폴리에틸렌(HD...   \n",
       "6  폴리에틸렌테레프탈레이트(PET), 폴리에틸렌(HDPE), 폴리프로필렌(PP), 염화...   \n",
       "\n",
       "                                                  보존  \\\n",
       "0           직사광선 및 고온다습한 곳을 피하여 건조하고 서늘한 곳에 보관하십시오.    \n",
       "6  1) 직사광선 및 고온다습한 곳을 피하여 건조하고 서늘한 실온에 보관하십시오.2) ...   \n",
       "\n",
       "                                             섭취시주의사항  \\\n",
       "0  (1) 당뇨병이 있는 경우 섭취 전 전문가와 상담할 것(2) 이상사례 발생 시 섭취...   \n",
       "6  ① 질환이 있거나 의약품 복용 시 전문가와 상담 하십시오. ② 알레르기 체질 등은 ...   \n",
       "\n",
       "                                               기능성내용  \\\n",
       "0  ①식후 혈당상승 억제에 도움을 줄 수 있음항산화 작용을 하여 유해산소로부터 세포를 ...   \n",
       "6  [프로바이오틱스] 유산균 증식 및 유해균 억제･배변활동 원활･장 건강에 도움을 줄 ...   \n",
       "\n",
       "                                                  기준  \n",
       "0  1. 성상 : 고유의 향미가 있고 이미·이취가 없는 흰색, 검은색 점박이를 포함한 ...  \n",
       "6  1. 성상: 고유의 향미가 있고 이미, 이취가 없는 밝은 회황색의 분말을 함유한 흰...  "
      ]
     },
     "execution_count": 11,
     "metadata": {},
     "output_type": "execute_result"
    }
   ],
   "source": [
    "# 건강기능식품만 남기기, 중복제거\n",
    "data2 = data.query('성상!=\"\"').reset_index(drop=True)\n",
    "data3 = data2.drop_duplicates(['제품명'], keep='first') #중복제거\n",
    "data3"
   ]
  },
  {
   "cell_type": "code",
   "execution_count": null,
   "id": "cda876ad",
   "metadata": {},
   "outputs": [],
   "source": []
  }
 ],
 "metadata": {
  "kernelspec": {
   "display_name": "Python 3 (ipykernel)",
   "language": "python",
   "name": "python3"
  },
  "language_info": {
   "codemirror_mode": {
    "name": "ipython",
    "version": 3
   },
   "file_extension": ".py",
   "mimetype": "text/x-python",
   "name": "python",
   "nbconvert_exporter": "python",
   "pygments_lexer": "ipython3",
   "version": "3.9.7"
  }
 },
 "nbformat": 4,
 "nbformat_minor": 5
}
